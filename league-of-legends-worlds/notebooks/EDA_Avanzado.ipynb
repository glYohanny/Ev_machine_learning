{
  "cells": [
    {
      "cell_type": "markdown",
      "metadata": {},
      "source": [
        "# ANÁLISIS EXPLORATORIO DE DATOS (EDA) AVANZADO - League of Legends Worlds\n",
        "\n",
        "## Objetivos:\n",
        "1. **Análisis Univariado**: Distribuciones y estadísticas descriptivas\n",
        "2. **Análisis Bivariado**: Correlaciones y relaciones entre variables\n",
        "3. **Análisis Multivariado**: Análisis de componentes principales y clustering\n",
        "4. **Identificación de Targets**: Definición clara de objetivos de ML\n"
      ]
    },
    {
      "cell_type": "code",
      "execution_count": null,
      "metadata": {},
      "outputs": [],
      "source": [
        "# Importar librerías necesarias\n",
        "import pandas as pd\n",
        "import numpy as np\n",
        "import matplotlib.pyplot as plt\n",
        "import seaborn as sns\n",
        "from sklearn.preprocessing import StandardScaler\n",
        "from sklearn.decomposition import PCA\n",
        "from sklearn.cluster import KMeans\n",
        "from sklearn.model_selection import train_test_split\n",
        "import warnings\n",
        "warnings.filterwarnings('ignore')\n",
        "\n",
        "# Configurar visualizaciones\n",
        "plt.style.use('default')\n",
        "sns.set_palette(\"husl\")\n",
        "plt.rcParams['figure.figsize'] = (12, 8)\n",
        "\n",
        "print(\"✅ Librerías importadas correctamente\")\n"
      ]
    }
  ],
  "metadata": {
    "language_info": {
      "name": "python"
    }
  },
  "nbformat": 4,
  "nbformat_minor": 2
}
