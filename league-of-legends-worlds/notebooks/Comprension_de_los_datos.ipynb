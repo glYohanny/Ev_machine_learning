{
 "cells": [
  {
   "cell_type": "markdown",
   "metadata": {},
   "source": [
    "# ETAPA 2: COMPRENSIÓN DE LOS DATOS - League of Legends Worlds\n",
    "\n",
    "## Objetivos:\n",
    "1. Explorar la estructura y calidad de los datasets\n",
    "2. Identificar patrones y tendencias en los datos\n",
    "3. Detectar problemas de calidad de datos\n",
    "4. Generar insights iniciales sobre el rendimiento\n"
   ]
  },
  {
   "cell_type": "code",
   "execution_count": null,
   "metadata": {},
   "outputs": [],
   "source": []
  }
 ],
 "metadata": {
  "kernelspec": {
   "display_name": "Kedro (league_of_legends_worlds)",
   "language": "python",
   "name": "kedro_league_of_legends_worlds"
  },
  "language_info": {
   "codemirror_mode": {
    "name": "ipython",
    "version": 3
   },
   "file_extension": ".py",
   "mimetype": "text/x-python",
   "name": "python",
   "nbconvert_exporter": "python",
   "pygments_lexer": "ipython3",
   "version": "3.13.7"
  }
 },
 "nbformat": 4,
 "nbformat_minor": 4
}
